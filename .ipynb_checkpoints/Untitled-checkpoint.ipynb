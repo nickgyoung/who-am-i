{
 "cells": [
  {
   "cell_type": "markdown",
   "id": "53190303-cc65-4272-bd28-61df72897860",
   "metadata": {},
   "source": [
    "# Who Am I?\n",
    "\n",
    "This is a Jupyter Notebook detailing a process where I:\n",
    "\n",
    "* Take a pre-trained computer vision model and fine-tune it to detect my face given a variety of likely transformations (different glasses, sunglasses, septum piercing, no septum, looking sideways, hat, etc.)\n",
    "* Have this fine-tuned CV model predict which photographs contain me from the corpus of pictures that are on my phone\n",
    "* Creates a subfolder within my main images folder that are these photographs of me\n",
    "  \n",
    "I will attempt to make this reproducible as well, such that anyone can supply their own photographs of themselves, and corpus from which they want to predict."
   ]
  },
  {
   "cell_type": "markdown",
   "id": "aa76dbae-357e-4f96-89c4-739bb2f3e0d6",
   "metadata": {},
   "source": [
    "# Picking a model\n",
    "\n",
    "After some light research around different facial recognition models, I've decided to proceed with DeepFace. It has some promising accuracy metrics, and starting from square one any model is as good as any other at this point"
   ]
  },
  {
   "cell_type": "code",
   "execution_count": 9,
   "id": "e365700f-d30a-418e-876c-9d95b6e91550",
   "metadata": {},
   "outputs": [
    {
     "name": "stderr",
     "output_type": "stream",
     "text": [
      "ERROR: Could not find a version that satisfies the requirement tensorflow==2.15.0 (from versions: 2.20.0rc0)\n",
      "ERROR: No matching distribution found for tensorflow==2.15.0\n"
     ]
    }
   ],
   "source": [
    "!pip install tensorflow==2.15.0 keras==2.15.0\n"
   ]
  }
 ],
 "metadata": {
  "kernelspec": {
   "display_name": "Python 3 (ipykernel)",
   "language": "python",
   "name": "python3"
  },
  "language_info": {
   "codemirror_mode": {
    "name": "ipython",
    "version": 3
   },
   "file_extension": ".py",
   "mimetype": "text/x-python",
   "name": "python",
   "nbconvert_exporter": "python",
   "pygments_lexer": "ipython3",
   "version": "3.13.5"
  }
 },
 "nbformat": 4,
 "nbformat_minor": 5
}
